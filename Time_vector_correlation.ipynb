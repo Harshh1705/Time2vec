{
  "nbformat": 4,
  "nbformat_minor": 0,
  "metadata": {
    "colab": {
      "provenance": []
    },
    "kernelspec": {
      "name": "python3",
      "display_name": "Python 3"
    },
    "language_info": {
      "name": "python"
    }
  },
  "cells": [
    {
      "cell_type": "code",
      "execution_count": 1,
      "metadata": {
        "id": "iIAkrNKo4no1"
      },
      "outputs": [],
      "source": [
        "import pandas as pd\n",
        "import numpy as np\n",
        "import torch\n",
        "import matplotlib.pyplot as plt\n",
        "from torch import nn\n",
        "import torch.nn.functional as F\n",
        "import math"
      ]
    },
    {
      "cell_type": "code",
      "source": [
        "data = pd.read_csv(\"metrics.csv\")\n",
        "data.head()"
      ],
      "metadata": {
        "colab": {
          "base_uri": "https://localhost:8080/",
          "height": 293
        },
        "id": "BhDwSCSh4tgy",
        "outputId": "7c864558-4c33-4feb-d218-652c5a17734c"
      },
      "execution_count": 3,
      "outputs": [
        {
          "output_type": "execute_result",
          "data": {
            "text/plain": [
              "             timestamp  cpu_usage  memory_usage    disk_io  network_in  \\\n",
              "0  2025-01-01 00:00:00  55.052082     35.836442  24.862598   19.796225   \n",
              "1  2025-01-01 00:05:00  42.994891     42.544408  28.802750   28.976530   \n",
              "2  2025-01-01 00:10:00  50.756957     38.272199  22.114400   19.956845   \n",
              "3  2025-01-01 00:15:00  53.165998     39.243855  23.676543   27.456220   \n",
              "4  2025-01-01 00:20:00  48.200113     33.354073  24.526947   22.425039   \n",
              "\n",
              "   network_out  db_queries  db_latency  app_errors  response_time  \\\n",
              "0    22.052899  119.918888    6.942040    2.424845     119.682105   \n",
              "1    10.959110   48.764157    4.300685    1.481822     133.844532   \n",
              "2    19.768088  140.011782    4.799572    2.407843     265.416551   \n",
              "3    16.797400   84.131386    7.769680    1.713054     188.618634   \n",
              "4     5.285591   86.012965    6.188546    2.663550     179.486447   \n",
              "\n",
              "   active_users  \n",
              "0    441.122469  \n",
              "1    385.939515  \n",
              "2    547.382904  \n",
              "3    673.131839  \n",
              "4    384.999948  "
            ],
            "text/html": [
              "\n",
              "  <div id=\"df-d33b58db-6794-4555-8eb5-f1f5a8eba4f8\" class=\"colab-df-container\">\n",
              "    <div>\n",
              "<style scoped>\n",
              "    .dataframe tbody tr th:only-of-type {\n",
              "        vertical-align: middle;\n",
              "    }\n",
              "\n",
              "    .dataframe tbody tr th {\n",
              "        vertical-align: top;\n",
              "    }\n",
              "\n",
              "    .dataframe thead th {\n",
              "        text-align: right;\n",
              "    }\n",
              "</style>\n",
              "<table border=\"1\" class=\"dataframe\">\n",
              "  <thead>\n",
              "    <tr style=\"text-align: right;\">\n",
              "      <th></th>\n",
              "      <th>timestamp</th>\n",
              "      <th>cpu_usage</th>\n",
              "      <th>memory_usage</th>\n",
              "      <th>disk_io</th>\n",
              "      <th>network_in</th>\n",
              "      <th>network_out</th>\n",
              "      <th>db_queries</th>\n",
              "      <th>db_latency</th>\n",
              "      <th>app_errors</th>\n",
              "      <th>response_time</th>\n",
              "      <th>active_users</th>\n",
              "    </tr>\n",
              "  </thead>\n",
              "  <tbody>\n",
              "    <tr>\n",
              "      <th>0</th>\n",
              "      <td>2025-01-01 00:00:00</td>\n",
              "      <td>55.052082</td>\n",
              "      <td>35.836442</td>\n",
              "      <td>24.862598</td>\n",
              "      <td>19.796225</td>\n",
              "      <td>22.052899</td>\n",
              "      <td>119.918888</td>\n",
              "      <td>6.942040</td>\n",
              "      <td>2.424845</td>\n",
              "      <td>119.682105</td>\n",
              "      <td>441.122469</td>\n",
              "    </tr>\n",
              "    <tr>\n",
              "      <th>1</th>\n",
              "      <td>2025-01-01 00:05:00</td>\n",
              "      <td>42.994891</td>\n",
              "      <td>42.544408</td>\n",
              "      <td>28.802750</td>\n",
              "      <td>28.976530</td>\n",
              "      <td>10.959110</td>\n",
              "      <td>48.764157</td>\n",
              "      <td>4.300685</td>\n",
              "      <td>1.481822</td>\n",
              "      <td>133.844532</td>\n",
              "      <td>385.939515</td>\n",
              "    </tr>\n",
              "    <tr>\n",
              "      <th>2</th>\n",
              "      <td>2025-01-01 00:10:00</td>\n",
              "      <td>50.756957</td>\n",
              "      <td>38.272199</td>\n",
              "      <td>22.114400</td>\n",
              "      <td>19.956845</td>\n",
              "      <td>19.768088</td>\n",
              "      <td>140.011782</td>\n",
              "      <td>4.799572</td>\n",
              "      <td>2.407843</td>\n",
              "      <td>265.416551</td>\n",
              "      <td>547.382904</td>\n",
              "    </tr>\n",
              "    <tr>\n",
              "      <th>3</th>\n",
              "      <td>2025-01-01 00:15:00</td>\n",
              "      <td>53.165998</td>\n",
              "      <td>39.243855</td>\n",
              "      <td>23.676543</td>\n",
              "      <td>27.456220</td>\n",
              "      <td>16.797400</td>\n",
              "      <td>84.131386</td>\n",
              "      <td>7.769680</td>\n",
              "      <td>1.713054</td>\n",
              "      <td>188.618634</td>\n",
              "      <td>673.131839</td>\n",
              "    </tr>\n",
              "    <tr>\n",
              "      <th>4</th>\n",
              "      <td>2025-01-01 00:20:00</td>\n",
              "      <td>48.200113</td>\n",
              "      <td>33.354073</td>\n",
              "      <td>24.526947</td>\n",
              "      <td>22.425039</td>\n",
              "      <td>5.285591</td>\n",
              "      <td>86.012965</td>\n",
              "      <td>6.188546</td>\n",
              "      <td>2.663550</td>\n",
              "      <td>179.486447</td>\n",
              "      <td>384.999948</td>\n",
              "    </tr>\n",
              "  </tbody>\n",
              "</table>\n",
              "</div>\n",
              "    <div class=\"colab-df-buttons\">\n",
              "\n",
              "  <div class=\"colab-df-container\">\n",
              "    <button class=\"colab-df-convert\" onclick=\"convertToInteractive('df-d33b58db-6794-4555-8eb5-f1f5a8eba4f8')\"\n",
              "            title=\"Convert this dataframe to an interactive table.\"\n",
              "            style=\"display:none;\">\n",
              "\n",
              "  <svg xmlns=\"http://www.w3.org/2000/svg\" height=\"24px\" viewBox=\"0 -960 960 960\">\n",
              "    <path d=\"M120-120v-720h720v720H120Zm60-500h600v-160H180v160Zm220 220h160v-160H400v160Zm0 220h160v-160H400v160ZM180-400h160v-160H180v160Zm440 0h160v-160H620v160ZM180-180h160v-160H180v160Zm440 0h160v-160H620v160Z\"/>\n",
              "  </svg>\n",
              "    </button>\n",
              "\n",
              "  <style>\n",
              "    .colab-df-container {\n",
              "      display:flex;\n",
              "      gap: 12px;\n",
              "    }\n",
              "\n",
              "    .colab-df-convert {\n",
              "      background-color: #E8F0FE;\n",
              "      border: none;\n",
              "      border-radius: 50%;\n",
              "      cursor: pointer;\n",
              "      display: none;\n",
              "      fill: #1967D2;\n",
              "      height: 32px;\n",
              "      padding: 0 0 0 0;\n",
              "      width: 32px;\n",
              "    }\n",
              "\n",
              "    .colab-df-convert:hover {\n",
              "      background-color: #E2EBFA;\n",
              "      box-shadow: 0px 1px 2px rgba(60, 64, 67, 0.3), 0px 1px 3px 1px rgba(60, 64, 67, 0.15);\n",
              "      fill: #174EA6;\n",
              "    }\n",
              "\n",
              "    .colab-df-buttons div {\n",
              "      margin-bottom: 4px;\n",
              "    }\n",
              "\n",
              "    [theme=dark] .colab-df-convert {\n",
              "      background-color: #3B4455;\n",
              "      fill: #D2E3FC;\n",
              "    }\n",
              "\n",
              "    [theme=dark] .colab-df-convert:hover {\n",
              "      background-color: #434B5C;\n",
              "      box-shadow: 0px 1px 3px 1px rgba(0, 0, 0, 0.15);\n",
              "      filter: drop-shadow(0px 1px 2px rgba(0, 0, 0, 0.3));\n",
              "      fill: #FFFFFF;\n",
              "    }\n",
              "  </style>\n",
              "\n",
              "    <script>\n",
              "      const buttonEl =\n",
              "        document.querySelector('#df-d33b58db-6794-4555-8eb5-f1f5a8eba4f8 button.colab-df-convert');\n",
              "      buttonEl.style.display =\n",
              "        google.colab.kernel.accessAllowed ? 'block' : 'none';\n",
              "\n",
              "      async function convertToInteractive(key) {\n",
              "        const element = document.querySelector('#df-d33b58db-6794-4555-8eb5-f1f5a8eba4f8');\n",
              "        const dataTable =\n",
              "          await google.colab.kernel.invokeFunction('convertToInteractive',\n",
              "                                                    [key], {});\n",
              "        if (!dataTable) return;\n",
              "\n",
              "        const docLinkHtml = 'Like what you see? Visit the ' +\n",
              "          '<a target=\"_blank\" href=https://colab.research.google.com/notebooks/data_table.ipynb>data table notebook</a>'\n",
              "          + ' to learn more about interactive tables.';\n",
              "        element.innerHTML = '';\n",
              "        dataTable['output_type'] = 'display_data';\n",
              "        await google.colab.output.renderOutput(dataTable, element);\n",
              "        const docLink = document.createElement('div');\n",
              "        docLink.innerHTML = docLinkHtml;\n",
              "        element.appendChild(docLink);\n",
              "      }\n",
              "    </script>\n",
              "  </div>\n",
              "\n",
              "\n",
              "<div id=\"df-13ccd888-0644-4506-8e56-7020aef7d5e3\">\n",
              "  <button class=\"colab-df-quickchart\" onclick=\"quickchart('df-13ccd888-0644-4506-8e56-7020aef7d5e3')\"\n",
              "            title=\"Suggest charts\"\n",
              "            style=\"display:none;\">\n",
              "\n",
              "<svg xmlns=\"http://www.w3.org/2000/svg\" height=\"24px\"viewBox=\"0 0 24 24\"\n",
              "     width=\"24px\">\n",
              "    <g>\n",
              "        <path d=\"M19 3H5c-1.1 0-2 .9-2 2v14c0 1.1.9 2 2 2h14c1.1 0 2-.9 2-2V5c0-1.1-.9-2-2-2zM9 17H7v-7h2v7zm4 0h-2V7h2v10zm4 0h-2v-4h2v4z\"/>\n",
              "    </g>\n",
              "</svg>\n",
              "  </button>\n",
              "\n",
              "<style>\n",
              "  .colab-df-quickchart {\n",
              "      --bg-color: #E8F0FE;\n",
              "      --fill-color: #1967D2;\n",
              "      --hover-bg-color: #E2EBFA;\n",
              "      --hover-fill-color: #174EA6;\n",
              "      --disabled-fill-color: #AAA;\n",
              "      --disabled-bg-color: #DDD;\n",
              "  }\n",
              "\n",
              "  [theme=dark] .colab-df-quickchart {\n",
              "      --bg-color: #3B4455;\n",
              "      --fill-color: #D2E3FC;\n",
              "      --hover-bg-color: #434B5C;\n",
              "      --hover-fill-color: #FFFFFF;\n",
              "      --disabled-bg-color: #3B4455;\n",
              "      --disabled-fill-color: #666;\n",
              "  }\n",
              "\n",
              "  .colab-df-quickchart {\n",
              "    background-color: var(--bg-color);\n",
              "    border: none;\n",
              "    border-radius: 50%;\n",
              "    cursor: pointer;\n",
              "    display: none;\n",
              "    fill: var(--fill-color);\n",
              "    height: 32px;\n",
              "    padding: 0;\n",
              "    width: 32px;\n",
              "  }\n",
              "\n",
              "  .colab-df-quickchart:hover {\n",
              "    background-color: var(--hover-bg-color);\n",
              "    box-shadow: 0 1px 2px rgba(60, 64, 67, 0.3), 0 1px 3px 1px rgba(60, 64, 67, 0.15);\n",
              "    fill: var(--button-hover-fill-color);\n",
              "  }\n",
              "\n",
              "  .colab-df-quickchart-complete:disabled,\n",
              "  .colab-df-quickchart-complete:disabled:hover {\n",
              "    background-color: var(--disabled-bg-color);\n",
              "    fill: var(--disabled-fill-color);\n",
              "    box-shadow: none;\n",
              "  }\n",
              "\n",
              "  .colab-df-spinner {\n",
              "    border: 2px solid var(--fill-color);\n",
              "    border-color: transparent;\n",
              "    border-bottom-color: var(--fill-color);\n",
              "    animation:\n",
              "      spin 1s steps(1) infinite;\n",
              "  }\n",
              "\n",
              "  @keyframes spin {\n",
              "    0% {\n",
              "      border-color: transparent;\n",
              "      border-bottom-color: var(--fill-color);\n",
              "      border-left-color: var(--fill-color);\n",
              "    }\n",
              "    20% {\n",
              "      border-color: transparent;\n",
              "      border-left-color: var(--fill-color);\n",
              "      border-top-color: var(--fill-color);\n",
              "    }\n",
              "    30% {\n",
              "      border-color: transparent;\n",
              "      border-left-color: var(--fill-color);\n",
              "      border-top-color: var(--fill-color);\n",
              "      border-right-color: var(--fill-color);\n",
              "    }\n",
              "    40% {\n",
              "      border-color: transparent;\n",
              "      border-right-color: var(--fill-color);\n",
              "      border-top-color: var(--fill-color);\n",
              "    }\n",
              "    60% {\n",
              "      border-color: transparent;\n",
              "      border-right-color: var(--fill-color);\n",
              "    }\n",
              "    80% {\n",
              "      border-color: transparent;\n",
              "      border-right-color: var(--fill-color);\n",
              "      border-bottom-color: var(--fill-color);\n",
              "    }\n",
              "    90% {\n",
              "      border-color: transparent;\n",
              "      border-bottom-color: var(--fill-color);\n",
              "    }\n",
              "  }\n",
              "</style>\n",
              "\n",
              "  <script>\n",
              "    async function quickchart(key) {\n",
              "      const quickchartButtonEl =\n",
              "        document.querySelector('#' + key + ' button');\n",
              "      quickchartButtonEl.disabled = true;  // To prevent multiple clicks.\n",
              "      quickchartButtonEl.classList.add('colab-df-spinner');\n",
              "      try {\n",
              "        const charts = await google.colab.kernel.invokeFunction(\n",
              "            'suggestCharts', [key], {});\n",
              "      } catch (error) {\n",
              "        console.error('Error during call to suggestCharts:', error);\n",
              "      }\n",
              "      quickchartButtonEl.classList.remove('colab-df-spinner');\n",
              "      quickchartButtonEl.classList.add('colab-df-quickchart-complete');\n",
              "    }\n",
              "    (() => {\n",
              "      let quickchartButtonEl =\n",
              "        document.querySelector('#df-13ccd888-0644-4506-8e56-7020aef7d5e3 button');\n",
              "      quickchartButtonEl.style.display =\n",
              "        google.colab.kernel.accessAllowed ? 'block' : 'none';\n",
              "    })();\n",
              "  </script>\n",
              "</div>\n",
              "\n",
              "    </div>\n",
              "  </div>\n"
            ],
            "application/vnd.google.colaboratory.intrinsic+json": {
              "type": "dataframe",
              "variable_name": "data",
              "summary": "{\n  \"name\": \"data\",\n  \"rows\": 1000,\n  \"fields\": [\n    {\n      \"column\": \"timestamp\",\n      \"properties\": {\n        \"dtype\": \"object\",\n        \"num_unique_values\": 1000,\n        \"samples\": [\n          \"2025-01-02 19:25:00\",\n          \"2025-01-03 13:25:00\",\n          \"2025-01-03 13:40:00\"\n        ],\n        \"semantic_type\": \"\",\n        \"description\": \"\"\n      }\n    },\n    {\n      \"column\": \"cpu_usage\",\n      \"properties\": {\n        \"dtype\": \"number\",\n        \"std\": 8.649520742101625,\n        \"min\": 28.59987941459277,\n        \"max\": 72.56965537472826,\n        \"num_unique_values\": 1000,\n        \"samples\": [\n          36.06322383013159,\n          64.71407542791677,\n          61.672665921823295\n        ],\n        \"semantic_type\": \"\",\n        \"description\": \"\"\n      }\n    },\n    {\n      \"column\": \"memory_usage\",\n      \"properties\": {\n        \"dtype\": \"number\",\n        \"std\": 6.262324490075609,\n        \"min\": 24.590319534076983,\n        \"max\": 56.49976247773925,\n        \"num_unique_values\": 1000,\n        \"samples\": [\n          32.71991602910955,\n          47.40928942125627,\n          47.65102280169074\n        ],\n        \"semantic_type\": \"\",\n        \"description\": \"\"\n      }\n    },\n    {\n      \"column\": \"disk_io\",\n      \"properties\": {\n        \"dtype\": \"number\",\n        \"std\": 4.1004335838034365,\n        \"min\": 12.958813253914546,\n        \"max\": 35.4021130060981,\n        \"num_unique_values\": 1000,\n        \"samples\": [\n          26.375203785702368,\n          32.18907418499443,\n          29.9011888749882\n        ],\n        \"semantic_type\": \"\",\n        \"description\": \"\"\n      }\n    },\n    {\n      \"column\": \"network_in\",\n      \"properties\": {\n        \"dtype\": \"number\",\n        \"std\": 5.1845930919881065,\n        \"min\": 2.34439918902784,\n        \"max\": 36.7632160583942,\n        \"num_unique_values\": 1000,\n        \"samples\": [\n          21.015263237280585,\n          24.469163003453115,\n          24.80212331223904\n        ],\n        \"semantic_type\": \"\",\n        \"description\": \"\"\n      }\n    },\n    {\n      \"column\": \"network_out\",\n      \"properties\": {\n        \"dtype\": \"number\",\n        \"std\": 5.918905492628118,\n        \"min\": 0.6416737160631634,\n        \"max\": 38.76289677863519,\n        \"num_unique_values\": 1000,\n        \"samples\": [\n          13.163653267331147,\n          18.47537649039508,\n          8.594868363986118\n        ],\n        \"semantic_type\": \"\",\n        \"description\": \"\"\n      }\n    },\n    {\n      \"column\": \"db_queries\",\n      \"properties\": {\n        \"dtype\": \"number\",\n        \"std\": 29.598720895868247,\n        \"min\": 7.505681680741119,\n        \"max\": 181.4317124981616,\n        \"num_unique_values\": 1000,\n        \"samples\": [\n          135.13536684674398,\n          116.56072842891442,\n          79.98714229648714\n        ],\n        \"semantic_type\": \"\",\n        \"description\": \"\"\n      }\n    },\n    {\n      \"column\": \"db_latency\",\n      \"properties\": {\n        \"dtype\": \"number\",\n        \"std\": 2.011448880562069,\n        \"min\": -1.9393477095379612,\n        \"max\": 11.40384272236296,\n        \"num_unique_values\": 1000,\n        \"samples\": [\n          2.238895945047628,\n          4.963141552174674,\n          3.56401513201582\n        ],\n        \"semantic_type\": \"\",\n        \"description\": \"\"\n      }\n    },\n    {\n      \"column\": \"app_errors\",\n      \"properties\": {\n        \"dtype\": \"number\",\n        \"std\": 0.9836656756014569,\n        \"min\": -1.147466676523837,\n        \"max\": 5.081788643188807,\n        \"num_unique_values\": 1000,\n        \"samples\": [\n          1.1413717971555202,\n          2.7915972573689043,\n          3.170727910366396\n        ],\n        \"semantic_type\": \"\",\n        \"description\": \"\"\n      }\n    },\n    {\n      \"column\": \"response_time\",\n      \"properties\": {\n        \"dtype\": \"number\",\n        \"std\": 50.57687332886682,\n        \"min\": 45.64157959775906,\n        \"max\": 355.1458661194382,\n        \"num_unique_values\": 1000,\n        \"samples\": [\n          174.61052219339467,\n          196.15672801630396,\n          262.69352165798523\n        ],\n        \"semantic_type\": \"\",\n        \"description\": \"\"\n      }\n    },\n    {\n      \"column\": \"active_users\",\n      \"properties\": {\n        \"dtype\": \"number\",\n        \"std\": 102.48791338897954,\n        \"min\": 182.86048034306597,\n        \"max\": 790.4079084891248,\n        \"num_unique_values\": 1000,\n        \"samples\": [\n          391.6415218417319,\n          600.7233323662356,\n          602.9320971435551\n        ],\n        \"semantic_type\": \"\",\n        \"description\": \"\"\n      }\n    }\n  ]\n}"
            }
          },
          "metadata": {},
          "execution_count": 3
        }
      ]
    },
    {
      "cell_type": "markdown",
      "source": [
        "## Data :"
      ],
      "metadata": {
        "id": "E8xvb3NK_fyF"
      }
    },
    {
      "cell_type": "code",
      "source": [
        "data['timestamp'] = pd.to_datetime(data['timestamp'], format=\"%Y-%m-%d %H:%M:%S\")\n",
        "data['hour'] = data['timestamp'].dt.hour\n",
        "data['minute'] = data['timestamp'].dt.minute\n",
        "data['time_value'] = data['hour'] * 60 + data['minute']\n",
        "data['time_value_normalized'] = data['time_value'] / (24 * 60) * 2 * np.pi"
      ],
      "metadata": {
        "id": "Wxx5vscL5Edr"
      },
      "execution_count": 8,
      "outputs": []
    },
    {
      "cell_type": "markdown",
      "source": [
        "## Activation classes"
      ],
      "metadata": {
        "id": "YOuIR4j153lo"
      }
    },
    {
      "cell_type": "code",
      "source": [
        "def t2v(tau, f, out_features, w, b, w0, b0, arg=None):\n",
        "    if arg:\n",
        "        v1 = f(torch.matmul(tau, w) + b, arg)\n",
        "    else:\n",
        "        #print(w.shape, t1.shape, b.shape)\n",
        "        v1 = f(torch.matmul(tau, w) + b)\n",
        "    v2 = torch.matmul(tau, w0) + b0\n",
        "    #print(v1.shape)\n",
        "    return torch.cat([v1, v2], -1)\n",
        "\n",
        "class SineActivation(nn.Module):\n",
        "    def __init__(self, in_features, out_features):\n",
        "        super(SineActivation, self).__init__()\n",
        "        self.out_features = out_features\n",
        "        self.w0 = nn.parameter.Parameter(torch.randn(in_features, 1))\n",
        "        self.b0 = nn.parameter.Parameter(torch.randn(1))\n",
        "        self.w = nn.parameter.Parameter(torch.randn(in_features, out_features-1))\n",
        "        self.b = nn.parameter.Parameter(torch.randn(out_features-1))\n",
        "        self.f = torch.sin\n",
        "\n",
        "    def forward(self, tau):\n",
        "        return t2v(tau, self.f, self.out_features, self.w, self.b, self.w0, self.b0)\n",
        "\n",
        "class CosineActivation(nn.Module):\n",
        "    def __init__(self, in_features, out_features):\n",
        "        super(CosineActivation, self).__init__()\n",
        "        self.out_features = out_features\n",
        "        self.w0 = nn.parameter.Parameter(torch.randn(in_features, 1))\n",
        "        self.b0 = nn.parameter.Parameter(torch.randn(1))\n",
        "        self.w = nn.parameter.Parameter(torch.randn(in_features, out_features-1))\n",
        "        self.b = nn.parameter.Parameter(torch.randn(out_features-1))\n",
        "        self.f = torch.cos\n",
        "\n",
        "    def forward(self, tau):\n",
        "        return t2v(tau, self.f, self.out_features, self.w, self.b, self.w0, self.b0)\n",
        "\n",
        "if __name__ == \"__main__\":\n",
        "    sineact = SineActivation(1, 64)\n",
        "    cosact = CosineActivation(1, 64)\n",
        "\n",
        "    print(sineact(torch.Tensor([[7]])).shape)\n",
        "    print(cosact(torch.Tensor([[7]])).shape)"
      ],
      "metadata": {
        "colab": {
          "base_uri": "https://localhost:8080/"
        },
        "id": "hoZehwaN_KWI",
        "outputId": "cbc75ed6-6e32-4d60-ce3d-714472c26acb"
      },
      "execution_count": 9,
      "outputs": [
        {
          "output_type": "stream",
          "name": "stdout",
          "text": [
            "torch.Size([1, 64])\n",
            "torch.Size([1, 64])\n"
          ]
        }
      ]
    },
    {
      "cell_type": "markdown",
      "source": [
        "## Model class"
      ],
      "metadata": {
        "id": "8vlHJoa_Tlyq"
      }
    },
    {
      "cell_type": "code",
      "source": [
        "class Model(nn.Module):\n",
        "    def __init__(self, activation, hidden_dim):\n",
        "        super(Model, self).__init__()\n",
        "        if activation == \"sin\":\n",
        "            self.l1 = SineActivation(1, hidden_dim)\n",
        "        elif activation == \"cos\":\n",
        "            self.l1 = CosineActivation(1, hidden_dim)\n",
        "\n",
        "        self.fc1 = nn.Linear(hidden_dim, 2)\n",
        "\n",
        "    def forward(self, x):\n",
        "        #x = x.unsqueeze(1)\n",
        "        x = self.l1(x)\n",
        "        x = self.fc1(x)\n",
        "        return x"
      ],
      "metadata": {
        "id": "9B8yjI2p_468"
      },
      "execution_count": 10,
      "outputs": []
    },
    {
      "cell_type": "markdown",
      "source": [
        "Passing data via model"
      ],
      "metadata": {
        "id": "x1C3HQdWTqBt"
      }
    },
    {
      "cell_type": "code",
      "source": [
        "time_values = torch.tensor(data['time_value_normalized'].values, dtype=torch.float32).unsqueeze(1)\n",
        "model = Model(hidden_dim = 32, activation = 'sin')\n",
        "\n",
        "with torch.no_grad():\n",
        "  embeddings = model(time_values)\n",
        "\n",
        "\n",
        "time_embeddings_np =embeddings.numpy()\n",
        "len(time_embeddings_np)"
      ],
      "metadata": {
        "colab": {
          "base_uri": "https://localhost:8080/"
        },
        "id": "S8K7M2gg_8_S",
        "outputId": "c88198a8-856a-47d5-a800-39c949f99b10"
      },
      "execution_count": 22,
      "outputs": [
        {
          "output_type": "execute_result",
          "data": {
            "text/plain": [
              "1000"
            ]
          },
          "metadata": {},
          "execution_count": 22
        }
      ]
    },
    {
      "cell_type": "markdown",
      "source": [
        "## using pearsons corr"
      ],
      "metadata": {
        "id": "UP-Ox6GhH39l"
      }
    },
    {
      "cell_type": "code",
      "source": [
        "import scipy.stats as stats\n",
        "\n",
        "\n",
        "metric_columns = ['cpu_usage', 'memory_usage', 'disk_io', 'network_in',\n",
        "                  'network_out', 'db_queries', 'db_latency', 'app_errors',\n",
        "                  'response_time', 'active_users']\n",
        "\n",
        "\n",
        "correlations = {}\n",
        "\n",
        "for i in range(time_embeddings_np.shape[1]):\n",
        "    dim_correlations = {}\n",
        "    for col in metric_columns:\n",
        "        corr, p_value = stats.pearsonr(time_embeddings_np[:, i], data[col])\n",
        "        dim_correlations[col] = (corr, p_value)\n",
        "    correlations[f\"dim_{i}\"] = dim_correlations\n",
        "\n",
        "top_correlations = {}\n",
        "for dim, corrs in correlations.items():\n",
        "    sorted_corrs = sorted(corrs.items(), key=lambda x: abs(x[1][0]), reverse=True)\n",
        "    top_correlations[dim] = sorted_corrs[:3]  # Top 3 correlations\n",
        "\n",
        "for dim, top_corrs in top_correlations.items():\n",
        "    print(f\"Time embedding dimension {dim}:\")\n",
        "    for metric, (corr, p_value) in top_corrs:\n",
        "        print(f\"  {metric}: correlation = {corr:.4f}\")"
      ],
      "metadata": {
        "colab": {
          "base_uri": "https://localhost:8080/"
        },
        "id": "fPA6gQgIAa72",
        "outputId": "aa91405a-cce9-4f32-aaa9-a5c32b4c0b68"
      },
      "execution_count": 25,
      "outputs": [
        {
          "output_type": "stream",
          "name": "stdout",
          "text": [
            "Time embedding dimension dim_0:\n",
            "  memory_usage: correlation = 0.1534\n",
            "  disk_io: correlation = 0.1511\n",
            "  cpu_usage: correlation = 0.1131\n",
            "Time embedding dimension dim_1:\n",
            "  cpu_usage: correlation = 0.1912\n",
            "  disk_io: correlation = 0.1870\n",
            "  memory_usage: correlation = 0.1803\n"
          ]
        }
      ]
    },
    {
      "cell_type": "code",
      "source": [],
      "metadata": {
        "id": "P0CNv0LbERtd"
      },
      "execution_count": null,
      "outputs": []
    },
    {
      "cell_type": "code",
      "source": [],
      "metadata": {
        "id": "DmZZDlovEhGa"
      },
      "execution_count": null,
      "outputs": []
    }
  ]
}